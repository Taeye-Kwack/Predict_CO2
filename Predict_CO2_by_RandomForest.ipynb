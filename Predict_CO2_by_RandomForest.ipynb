{
  "nbformat": 4,
  "nbformat_minor": 0,
  "metadata": {
    "colab": {
      "name": "Predict CO2 by RandomForest.ipynb",
      "private_outputs": true,
      "provenance": [],
      "mount_file_id": "1hAqP9sTdZf861kl5wvcKpbZid5nUr8J-",
      "authorship_tag": "ABX9TyOHXXY99WXMGFBVRVhk81Y1",
      "include_colab_link": true
    },
    "kernelspec": {
      "name": "python3",
      "display_name": "Python 3"
    },
    "language_info": {
      "name": "python"
    }
  },
  "cells": [
    {
      "cell_type": "markdown",
      "metadata": {
        "id": "view-in-github",
        "colab_type": "text"
      },
      "source": [
        "<a href=\"https://colab.research.google.com/github/Taeye-Kwack/Predict_CO2/blob/main/Predict_CO2_by_RandomForest.ipynb\" target=\"_parent\"><img src=\"https://colab.research.google.com/assets/colab-badge.svg\" alt=\"Open In Colab\"/></a>"
      ]
    },
    {
      "cell_type": "code",
      "metadata": {
        "id": "M1ndCd1l1-yb"
      },
      "source": [
        "# This is the code that make model through several ML methods\n",
        "\n",
        "import numpy as np\n",
        "import pandas as pd\n",
        "\n",
        "fpath = '/content/drive/MyDrive/'\n",
        "all = np.load(fpath + 'Allvariables_new_2020.npy') # Meteorological data and Satellite observation data in the same time\n",
        "all = pd.DataFrame(all)\n",
        "all.columns = ['t2m','sp','u10','v10','u100','v100','u','v','w','co','co_time','no2','co2_time','hour','lat','lon','sif','co2']\n",
        "# Sun-induced fluorescence (SIF) is NaN in the ocean, so we can devide the satellite data whether sif is NaN or not.\n",
        "land = all[~np.isnan(all.sif)] \n",
        "land = land[['t2m', 'sp', 'u10', 'v10', 'u100', 'v100', 'u', 'v', 'w', 'co','co_time', 'no2', 'lat', 'lon', 'sif', 'co2']]\n",
        "ocean = all[np.isnan(all.sif)] \n",
        "ocean = ocean[['t2m', 'sp', 'u10', 'v10', 'u100', 'v100', 'u', 'v', 'w', 'co','co_time', 'no2', 'lat', 'lon', 'co2']]"
      ],
      "execution_count": null,
      "outputs": []
    },
    {
      "cell_type": "code",
      "metadata": {
        "id": "vkK0fSFv-alp"
      },
      "source": [
        "all"
      ],
      "execution_count": null,
      "outputs": []
    },
    {
      "cell_type": "code",
      "metadata": {
        "id": "JH9ADJxf-rjp"
      },
      "source": [
        "!pip install Cartopy==0.17.0\n",
        "import cartopy.crs as ccrs\n",
        "import cartopy"
      ],
      "execution_count": null,
      "outputs": []
    },
    {
      "cell_type": "code",
      "metadata": {
        "id": "LCQ88YA431tR"
      },
      "source": [
        "import matplotlib.pyplot as plt  \n",
        "#ax = plt.figure()\n",
        "#ax = plt.axes(projection=ccrs.PlateCarree(central_longitude=180)) # There is runtime error when do sth about Cartopy library\n",
        "#ax.coastlines(zorder=1)\n",
        "plt.subplot(211)\n",
        "plt.scatter(land['lon'],land['lat'], c=land['co2'],s=0.1,vmin=400,vmax=420, cmap = 'jet')\n",
        "xticks = range(-180, 181, 60)\n",
        "#ax.set_xticks(xticks, crs=ccrs.PlateCarree())\n",
        "yticks = range(-90, 91, 30)\n",
        "#ax.set_yticks(yticks, crs=ccrs.PlateCarree())\n",
        "plt.colorbar(label = 'XCO2 (ppm)',shrink=0.7)\n",
        "plt.title('CO2 satellite data over land in 2020')\n",
        "plt.xlabel('longitude')\n",
        "plt.ylabel('latitude')\n",
        "\n",
        "plt.subplot(212)\n",
        "plt.scatter(ocean['lon'],ocean['lat'], c=ocean['co2'],s=0.1,vmin=400,vmax=420, cmap = 'jet')\n",
        "xticks = range(-180, 181, 60)\n",
        "#ax.set_xticks(xticks, crs=ccrs.PlateCarree())\n",
        "yticks = range(-90, 91, 30)\n",
        "#ax.set_yticks(yticks, crs=ccrs.PlateCarree())\n",
        "plt.colorbar(label = 'XCO2 (ppm)',shrink=0.7)\n",
        "plt.title('CO2 satellite data over land in 2020')\n",
        "plt.xlabel('longitude')\n",
        "plt.ylabel('latitude')\n",
        "\n",
        "plt.tight_layout()"
      ],
      "execution_count": null,
      "outputs": []
    },
    {
      "cell_type": "code",
      "metadata": {
        "id": "FyLVUqzr6ycv"
      },
      "source": [
        "from sklearn.metrics import mean_squared_error, r2_score, accuracy_score\n",
        "from sklearn.ensemble import RandomForestRegressor\n",
        "from sklearn.model_selection import train_test_split\n",
        "from scipy.stats import linregress\n",
        "from scipy import stats\n",
        "\n",
        "land_np = np.array(land)\n",
        "X = land_np[:,0:-1]\n",
        "y = land_np[:,-1]\n",
        "X_train, X_test, y_train, y_test = train_test_split(X, y, test_size=0.3, random_state=42)\n",
        "\n",
        "land_model = RandomForestRegressor()\n",
        "land_model.fit(X_train, y_train)\n",
        "\n",
        "y_predict = land_model.predict(X_test)\n",
        "print('Land_model score :',land_model.score(X_test, y_test))\n",
        "\n",
        "m1 = y_test\n",
        "m2 = y_predict\n",
        "m2 = m2.reshape(-1)\n",
        "values = np.vstack([m1, m2])\n",
        "kernel = stats.gaussian_kde(values)(values)\n",
        "fig = plt.figure()\n",
        "ax = fig.add_subplot(111)\n",
        "plt.scatter(y_test,y_predict,c=kernel,s=1,edgecolors='')\n",
        "plt.ylabel('Predicted CO2 (ppm)')\n",
        "plt.xlabel('Observed CO2 (ppm)')\n",
        "plt.xlim(390,430)\n",
        "plt.ylim(390,430)\n",
        "plt.xticks(np.arange(390,440, step=10))\n",
        "plt.yticks(np.arange(390,440, step=10))\n",
        "ax.set_aspect('equal', adjustable='box')\n",
        "\n",
        "rmse = (mean_squared_error(y_test, y_predict))**0.5\n",
        "co2lin = linregress(m1, m2)\n",
        "\n",
        "plt.title('Comparison of observed CO2 by OCO2 and predicted CO2 using RF (land)')\n",
        "plt.text(420,410,\"y = %.2f x + %.2f \\nR-square = %.2f \\nRMSE = %.2f\" % (co2lin[0],co2lin[1], r2_score(y_test,y_predict), rmse), fontsize=10)\n",
        "\n",
        "xlin = np.linspace(390, 430, 100)\n",
        "ylin = xlin * co2lin[0]+ co2lin[1]\n",
        "plt.plot(xlin, ylin, linewidth='1')\n",
        "\n",
        "xlin = np.linspace(390, 430, 100)\n",
        "ylin = xlin\n",
        "plt.plot(xlin, ylin, linewidth='1',linestyle = ':')"
      ],
      "execution_count": null,
      "outputs": []
    },
    {
      "cell_type": "code",
      "metadata": {
        "id": "P-SkepLg64qn"
      },
      "source": [
        "'''\n",
        "ocean_np = np.array(ocean)\n",
        "X = ocean_np[:,0:-1]\n",
        "y = ocean_np[:,-1]\n",
        "X_train, X_test, y_train, y_test = train_test_split(X, y, test_size=0.3, random_state=42)\n",
        "\n",
        "ocean_model = RandomForestRegressor()\n",
        "ocean_model.fit(X_train, y_train)\n",
        "'''\n",
        "y_predict = ocean_model.predict(X_test)\n",
        "print('ocean_model score :',ocean_model.score(X_test, y_test))\n",
        "\n",
        "m1 = y_test\n",
        "m2 = y_predict\n",
        "m2 = m2.reshape(-1)\n",
        "values = np.vstack([m1, m2])\n",
        "kernel = stats.gaussian_kde(values)(values)\n",
        "fig = plt.figure()\n",
        "ax = fig.add_subplot(111)\n",
        "plt.scatter(y_test,y_predict,c=kernel,s=1,edgecolors='')\n",
        "plt.ylabel('Predicted CO2 (ppm)')\n",
        "plt.xlabel('Observed CO2 (ppm)')\n",
        "plt.xlim(390,430)\n",
        "plt.ylim(390,430)\n",
        "plt.xticks(np.arange(390,440, step=10))\n",
        "plt.yticks(np.arange(390,440, step=10))\n",
        "ax.set_aspect('equal', adjustable='box')\n",
        "\n",
        "rmse = (mean_squared_error(y_test, y_predict))**0.5\n",
        "co2lin = linregress(m1, m2)\n",
        "\n",
        "plt.title('Comparison of observed CO2 by OCO2 and predicted CO2 using RF (ocean)')\n",
        "plt.text(420,410,\"y = %.2f x + %.2f \\nR-square = %.2f \\nRMSE = %.2f\" % (co2lin[0],co2lin[1], r2_score(y_test,y_predict), rmse), fontsize=10)\n",
        "\n",
        "xlin = np.linspace(390, 430, 100)\n",
        "ylin = xlin * co2lin[0]+ co2lin[1]\n",
        "plt.plot(xlin, ylin, linewidth='1')\n",
        "\n",
        "xlin = np.linspace(390, 430, 100)\n",
        "ylin = xlin\n",
        "plt.plot(xlin, ylin, linewidth='1',linestyle = ':')"
      ],
      "execution_count": null,
      "outputs": []
    },
    {
      "cell_type": "code",
      "metadata": {
        "id": "Wece5-CB8s6Z"
      },
      "source": [
        "import joblib\n",
        "joblib.dump(land_model, './land_model.pkl')\n",
        "joblib.dump(ocean_model, './ocean_model.pkl')"
      ],
      "execution_count": null,
      "outputs": []
    }
  ]
}